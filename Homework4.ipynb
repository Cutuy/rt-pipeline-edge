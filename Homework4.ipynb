{
  "nbformat": 4,
  "nbformat_minor": 0,
  "metadata": {
    "colab": {
      "name": "Homework4.ipynb",
      "version": "0.3.2",
      "provenance": [],
      "collapsed_sections": [],
      "include_colab_link": true
    },
    "kernelspec": {
      "display_name": "Python 3",
      "language": "python",
      "name": "python3"
    }
  },
  "cells": [
    {
      "cell_type": "markdown",
      "metadata": {
        "id": "view-in-github",
        "colab_type": "text"
      },
      "source": [
        "<a href=\"https://colab.research.google.com/github/gixhswlab1ppm/ppm/blob/master/Homework4.ipynb\" target=\"_parent\"><img src=\"https://colab.research.google.com/assets/colab-badge.svg\" alt=\"Open In Colab\"/></a>"
      ]
    },
    {
      "metadata": {
        "id": "XwZgWSTHbCD7",
        "colab_type": "text"
      },
      "cell_type": "markdown",
      "source": [
        "# Homework 4: Final Report Part 1\n",
        "This homework is very different from previous homeworks. The most signficant change is that this is a __group assignment__ that focuses on your project. You should complete it in collaboration with members of your project group. There is no coding, so you should feel free to complete the assignment in word or whatever format you are most comfortable with. This will be worth a significant amount of your final grade, so please try to do a good job. \n",
        "\n",
        "As usual, the homework is broken into tasks, however, each task is a phase of planning. For each task, you're highly encouraged to include graphics that aid in your explanations and thought processes. If you need help making these graphics, I recommend taking a look at [yed](https://www.yworks.com/products/yed), a really neat graph editor.\n",
        "\n",
        "Only one member of the group should submit this assignment, however, please provide the names of each member of the group here:\n",
        "\n",
        "**Group Members:**\n",
        "*   James Gan\n",
        "*   Jason Cui\n",
        "*   Shine Lin\n",
        "\n"
      ]
    },
    {
      "metadata": {
        "id": "LZuhuAFybCD9",
        "colab_type": "text"
      },
      "cell_type": "markdown",
      "source": [
        "## Task 1: Problem Description\n",
        "For this task you'll be describing what you want to accomplish. Of course some of this can be copy pasted from previous presentations you've done, but there are additional considerations you'll have to make. Specifically you should:\n",
        "* Describe the goal of your project\n",
        "\n",
        "Table tennis is a popular Olympic sport with very few professional players in most countries. It is expensive and can be difficult to learn with low availability of ways to improve. As a result, our overall goal is to build an electronic device that enables an efficient learning experience for table tennis. The device should be capable of detecting data from a collection of sensors, processing that data with standard computation and pre-trained models for real-time analysis, and to send that data to the cloud for more complex machine learning analysis,\n",
        "\n",
        "* What requirements does the project have? For example, what accuracy do you need to create a compelling experience? How fast does it need to run? Are there any privacy concerns? Etc...\n",
        "\n",
        "Our project does not have extreme accuracy requirements: we are targeting beginners, so anything that has a high degree of accuracy towards suggesting the right direction of change for improvement will be sufficient for our design. As a result, we **do want** a high accuracy in the direction of our outputs (e.g. was that game good or bad) but **do not need** high accuracy for more precise purposes (e.g. change the vertical acceleration of the swing 1m/s in order to vastly improve).\n",
        "\n",
        "For any pre-trained model we want to put onto our device's on-board Raspberry Pi, we will need it to run very fast: we want it to display results in near-real-time such that players would be able to seamlessly analyze their plays. However, for any models that are not fast, we would put them on the cloud for **post match analysis** which would arguably be fine even if they had up to an hour of delay. **We do not have privacy concerns**: all the data collected is not particularly sensitive - we do not have any biometric or otherwise personally identifiable information.\n",
        "\n",
        "* What class of machine learning problem is this? Is there overlap between several classes? In this context, a class of problem would be simple classification, natural language processing, vision, or one of the other topics discussed.\n",
        "\n",
        "**@Jason**"
      ]
    },
    {
      "metadata": {
        "id": "WDyGfHc2bCD-",
        "colab_type": "text"
      },
      "cell_type": "markdown",
      "source": [
        "## Task 2: Dataset Description\n",
        "In this task, you'll consider the dataset being collected to achieve your goal.\n",
        "* Which features do you need to collect? How do each of these features relate to the output of your network?\n",
        "* Describe your data collection procedure. How will you store the data? How will you prevent accidentally teaching the network something you didn't mean to. For example, If I trained a network with images all from the same room, it might learn to look for that background and not work anywhere else.\n",
        "* How many samples do you think you'll need? This relates both to the difficulty of the problem and the complexity of the network. How long do you expect it'll take to collect those samples? How much memory do you expect your dataset to take?\n",
        "* What are the labels for your data? How are they being labeled? Do you think there's any bias that might be accidentally inserted?"
      ]
    },
    {
      "metadata": {
        "id": "kMPYpkK9bCD_",
        "colab_type": "text"
      },
      "cell_type": "markdown",
      "source": [
        "## Task 3: Model Design\n",
        "Now that we have our goal and dataset set up, let's think about how to build a model that achieves our goal. For this task, you absolutely should include a graphic that shows the structure of your proposed architecture.\n",
        "* What type of architecture will you use? What are the pros and cons of your choice? Are there any alternative architectures that might work too?\n",
        "* Show the structure of your proposed architecture (graphic here)\n",
        "* Is there anything special about your architecture, such as a structural difference not covered in class?"
      ]
    },
    {
      "metadata": {
        "id": "UTvz-iPwbCEA",
        "colab_type": "text"
      },
      "cell_type": "markdown",
      "source": [
        "## Task 4: Training\n",
        "Let's now consider how you'll be training the model described. Here, consider how difficult the model might be train and what special considerations you may need to take for your project.\n",
        "* What hyperparameters make sense for your project? Hyperparameters include:\n",
        "    * Optimization algorithm (sgd, adam, rmsprop, etc)\n",
        "    * Learning rate\n",
        "    * Training time (epochs)\n",
        "    * Regularization (weight decay)\n",
        "* Are there any special training considerations you need to make? For example, reinforcement learning has a very different flow from normal training. What are those adjustments?\n",
        "* How will you evaluate the progress of your training. Do you think your validation accuracy will reflect real life?"
      ]
    },
    {
      "metadata": {
        "id": "H_eBQHrKbCEB",
        "colab_type": "text"
      },
      "cell_type": "markdown",
      "source": [
        "## Task 5: Deployment\n",
        "Finally, you have a trained model that accomplishes your initial goals. Now, consider how you'll take this model and make something useful from it.\n",
        "* Where will the model be run? Does it make sense to have it running on an Azure server? Why or why not? Does it make sense to have it running locally (on raspberry pi for example)? Why or why not?\n",
        "* How many users do you think could use your product at the same time? Will it effect performance?\n",
        "* How will you test how well your final product works?"
      ]
    }
  ]
}