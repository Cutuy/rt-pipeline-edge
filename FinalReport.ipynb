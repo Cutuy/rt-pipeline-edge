{
  "nbformat": 4,
  "nbformat_minor": 0,
  "metadata": {
    "colab": {
      "name": "FinalReport.ipynb",
      "version": "0.3.2",
      "provenance": [],
      "collapsed_sections": [],
      "include_colab_link": true
    },
    "kernelspec": {
      "display_name": "Python 3",
      "language": "python",
      "name": "python3"
    }
  },
  "cells": [
    {
      "cell_type": "markdown",
      "metadata": {
        "id": "view-in-github",
        "colab_type": "text"
      },
      "source": [
        "<a href=\"https://colab.research.google.com/github/gixhswlab1ppm/ppm/blob/master/FinalReport.ipynb\" target=\"_parent\"><img src=\"https://colab.research.google.com/assets/colab-badge.svg\" alt=\"Open In Colab\"/></a>"
      ]
    },
    {
      "metadata": {
        "id": "tG2L14M4bBEb",
        "colab_type": "text"
      },
      "cell_type": "markdown",
      "source": [
        "# Homework 5: Project Report\n",
        "This homework is very similar to homework 5, except now you've hopefully finished your project! You should fill in each of the sections below based on your results. Note that each section has changed from homework 5, so don't just copy paste, the questions are different!\n",
        "\n",
        "Only one member of the group should submit this assignment, however, please provide the names of each member of the group here:\n",
        "\n",
        "**Group Members:**\n",
        "*   Name\n",
        "*   Name\n",
        "*   Name"
      ]
    },
    {
      "metadata": {
        "id": "YM0M2oRXbBEd",
        "colab_type": "text"
      },
      "cell_type": "markdown",
      "source": [
        "## Task 1: Problem Description\n",
        "* Describe the functionality of your finished product. Try to explain it as if you were writing for a potential customor.\n",
        "* Did anything about your project goals change from the beginning of the quarter? What caused the change?\n",
        "* If you had more time, what would you do differently?"
      ]
    },
    {
      "metadata": {
        "id": "jQosW1n5bBEe",
        "colab_type": "text"
      },
      "cell_type": "markdown",
      "source": [
        "## Task 2: Dataset Description\n",
        "* How did you collect your dataset?\n",
        "* What features did your dataset have?\n",
        "* What were the labels?\n",
        "* How many samples did you collect?\n",
        "* What is your final opinion of your dataset? If you could do it again, what would you change?"
      ]
    },
    {
      "metadata": {
        "id": "yfWM6KXJbBEf",
        "colab_type": "text"
      },
      "cell_type": "markdown",
      "source": [
        "## Task 3: Model Design\n",
        "* What type of architecture did you use? Was it the same as you expected? If not, why?\n",
        "* Show the structure of your architecture (graphic here)"
      ]
    },
    {
      "metadata": {
        "id": "h_QtFHmGbBEg",
        "colab_type": "text"
      },
      "cell_type": "markdown",
      "source": [
        "## Task 4: Training\n",
        "* What was your final training and test accuracy? How many epochs did it take to reach that?\n",
        "* Did you encounter any unexpected issues during training?"
      ]
    },
    {
      "metadata": {
        "id": "G8JUmDWtbBEh",
        "colab_type": "text"
      },
      "cell_type": "markdown",
      "source": [
        "## Task 5: Deployment\n",
        "* Describe the method used to fun your model, how did it fit into the rest of your system?\n",
        "* Are you happy with how the project turned out? Why or why not?"
      ]
    }
  ]
}